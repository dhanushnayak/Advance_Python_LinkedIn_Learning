{
 "cells": [
  {
   "cell_type": "markdown",
   "metadata": {},
   "source": [
    "### Strings and Bytes"
   ]
  },
  {
   "cell_type": "code",
   "execution_count": 116,
   "metadata": {},
   "outputs": [
    {
     "name": "stdout",
     "output_type": "stream",
     "text": [
      "b'A'\n",
      "Hello\n",
      "HelloA\n",
      "b'HelloA'\n"
     ]
    }
   ],
   "source": [
    "def main():\n",
    "    b = bytes([0x41])\n",
    "    print(b)\n",
    "    s = \"Hello\"\n",
    "    print(s)\n",
    "    s2 = b.decode(\"utf-8\")\n",
    "    print(s+s2)\n",
    "    print(bytes(s.encode('utf-8')+b))\n",
    "if __name__ == '__main__':\n",
    "    main()"
   ]
  },
  {
   "cell_type": "markdown",
   "metadata": {},
   "source": [
    "### Template Strings "
   ]
  },
  {
   "cell_type": "code",
   "execution_count": 33,
   "metadata": {},
   "outputs": [
    {
     "name": "stdout",
     "output_type": "stream",
     "text": [
      "You are welcome dhanush by NayakD\n"
     ]
    }
   ],
   "source": [
    "str = 'You are welcome {0} by {1}'.format('dhanush','NayakD')\n",
    "print(str)"
   ]
  },
  {
   "cell_type": "code",
   "execution_count": 47,
   "metadata": {},
   "outputs": [
    {
     "name": "stdout",
     "output_type": "stream",
     "text": [
      "S2 You re watching Ipython by Me\n",
      "S3 You re watching Python by me\n"
     ]
    }
   ],
   "source": [
    "from string import Template\n",
    "temp = Template(\"You re watching ${title} by ${author}\")\n",
    "s2 = temp.substitute(title='Ipython',author='Me')\n",
    "d={\"author\":\"me\",\"title\":\"Python\"}\n",
    "s3 = temp.substitute(d)\n",
    "print(\"S2\",s2)\n",
    "print(\"S3\",s3)"
   ]
  },
  {
   "cell_type": "markdown",
   "metadata": {},
   "source": [
    "### Utilities"
   ]
  },
  {
   "cell_type": "code",
   "execution_count": 63,
   "metadata": {
    "scrolled": true
   },
   "outputs": [
    {
     "name": "stdout",
     "output_type": "stream",
     "text": [
      "True\n",
      "False\n",
      "True\n",
      "True\n",
      "Min = 1\n",
      "Max = 5\n",
      "SUM = 15\n"
     ]
    }
   ],
   "source": [
    "l = [int(i) for i in range(1,6)]\n",
    "print(any(l))\n",
    "l1=[]\n",
    "print(any(l1))\n",
    "print(all(l)) # if 0 in l it returns false\n",
    "print(all(l1))\n",
    "print(\"Min = {}\".format(min(l)))\n",
    "print(\"Max = {}\".format(max(l)))\n",
    "print(\"SUM = {}\".format(sum(l)))"
   ]
  },
  {
   "cell_type": "markdown",
   "metadata": {},
   "source": [
    "### Iterators"
   ]
  },
  {
   "cell_type": "code",
   "execution_count": null,
   "metadata": {},
   "outputs": [],
   "source": [
    "from string import Template\n",
    "day = ['Mon','Tue','Wed','Thru','Fri','Sat','Sun']\n",
    "days = [i.upper() for i in \"abcdefg\"]\n",
    "i = iter(day)\n",
    "print(next(i))\n",
    "print(next(i))\n",
    "print(next(i))\n",
    "for m in days:\n",
    "    print(m,end='  ')\n",
    "\n",
    "temp = Template(\"Si ${i} for ${day} to ${days}\")\n",
    "for k,m in enumerate(day,start=0):\n",
    "    print(k, m)\n",
    "for m in zip(day,days):\n",
    "    print(m)\n",
    "for i,m in enumerate(zip(day,days),start=1):\n",
    "    print(temp.substitute(i=i,day=m[0],days=m[1]))"
   ]
  },
  {
   "cell_type": "markdown",
   "metadata": {},
   "source": [
    "### Transforms"
   ]
  },
  {
   "cell_type": "code",
   "execution_count": 17,
   "metadata": {},
   "outputs": [
    {
     "name": "stdout",
     "output_type": "stream",
     "text": [
      "[1, 3, 3]\n",
      "['F']\n",
      "[1, 4, 9, 16, 36, 9, 4]\n",
      "8 A\n",
      "3 C\n",
      "4 B\n",
      "1 C\n",
      "3 C\n",
      "6 B\n",
      "7 B\n"
     ]
    }
   ],
   "source": [
    "def func(x):\n",
    "    if x%2==0:\n",
    "        return False\n",
    "    else:\n",
    "        return True\n",
    "def upper(x):\n",
    "    if x.isupper():\n",
    "        return True\n",
    "    return False\n",
    "n =(1,2,3,4,6,3,2)\n",
    "x=[i for i in range(0,6)]\n",
    "grade =(8,3,4,1,3,6,7)\n",
    "chars = \"ajauhFng\"\n",
    "odd = list(filter(func,n)) #for True or False\n",
    "print(odd)\n",
    "print(list(filter(upper,chars)))\n",
    "def squarefunc(x):\n",
    "    return x**2\n",
    "print(list(map(squarefunc,n)))\n",
    "def toGrade(x):\n",
    "    if x <=3:\n",
    "        return 'C'\n",
    "    elif x>3 and x<=7:\n",
    "        return 'B'\n",
    "    else:\n",
    "        return 'A'\n",
    "grades = sorted(grade)\n",
    "item=list(map(toGrade,grade))\n",
    "for i,m in zip(grade,item):\n",
    "    print(i,m)"
   ]
  },
  {
   "cell_type": "markdown",
   "metadata": {},
   "source": [
    "### Itertools"
   ]
  },
  {
   "cell_type": "code",
   "execution_count": 27,
   "metadata": {},
   "outputs": [
    {
     "name": "stdout",
     "output_type": "stream",
     "text": [
      "Abc\n",
      "100\n",
      "290\n",
      "480\n",
      "[1, 3, 3, 4, 5, 788, 788]\n",
      "ABCD1234\n",
      "[4, 5, 788, 2]\n",
      "[1, 3, 3]\n"
     ]
    }
   ],
   "source": [
    "import itertools\n",
    "s = ['Abc','dha','mb','ammu','Abc']\n",
    "cycle = itertools.cycle(s) # continoues Iteration\n",
    "print(next(cycle))\n",
    "#for i in cycle:\n",
    "    #print(i)\n",
    "count = itertools.count(100,190)# continoues Iteration skip 190 values\n",
    "print(next(count))\n",
    "print(next(count))\n",
    "print(next(count))\n",
    "vsl = [1,3,3,4,5,788,2]\n",
    "acc=list(itertools.accumulate(vsl,max))\n",
    "print(acc)\n",
    "chn = itertools.chain(\"ABCD\",\"1234\")\n",
    "print(''.join(list(chn)))\n",
    "def func(x):\n",
    "    return x<4\n",
    "#drop while\n",
    "print(list(itertools.dropwhile(func,vsl)))\n",
    "# take while\n",
    "print(list(itertools.takewhile(func,vsl)))"
   ]
  },
  {
   "cell_type": "markdown",
   "metadata": {},
   "source": [
    "### Function Documentation String "
   ]
  },
  {
   "cell_type": "code",
   "execution_count": 28,
   "metadata": {},
   "outputs": [],
   "source": [
    "map?"
   ]
  },
  {
   "cell_type": "code",
   "execution_count": 29,
   "metadata": {},
   "outputs": [
    {
     "data": {
      "text/plain": [
       "\"This module implements specialized container datatypes providing\\nalternatives to Python's general purpose built-in containers, dict,\\nlist, set, and tuple.\\n\\n* namedtuple   factory function for creating tuple subclasses with named fields\\n* deque        list-like container with fast appends and pops on either end\\n* ChainMap     dict-like class for creating a single view of multiple mappings\\n* Counter      dict subclass for counting hashable objects\\n* OrderedDict  dict subclass that remembers the order entries were added\\n* defaultdict  dict subclass that calls a factory function to supply missing values\\n* UserDict     wrapper around dictionary objects for easier dict subclassing\\n* UserList     wrapper around list objects for easier list subclassing\\n* UserString   wrapper around string objects for easier string subclassing\\n\\n\""
      ]
     },
     "execution_count": 29,
     "metadata": {},
     "output_type": "execute_result"
    }
   ],
   "source": [
    "import collections\n",
    "collections.__doc__"
   ]
  },
  {
   "cell_type": "code",
   "execution_count": 30,
   "metadata": {},
   "outputs": [
    {
     "data": {
      "text/plain": [
       "'\\n    Func is done by me\\n    '"
      ]
     },
     "execution_count": 30,
     "metadata": {},
     "output_type": "execute_result"
    }
   ],
   "source": [
    "def func(arg1,arg2=None):\n",
    "    \"\"\"\n",
    "    Func is done by me\n",
    "    \"\"\"\n",
    "    print(arg1,agr2)\n",
    "func.__doc__"
   ]
  },
  {
   "cell_type": "markdown",
   "metadata": {},
   "source": [
    "### Variable Arguments"
   ]
  },
  {
   "cell_type": "code",
   "execution_count": 33,
   "metadata": {},
   "outputs": [
    {
     "data": {
      "text/plain": [
       "10"
      ]
     },
     "execution_count": 33,
     "metadata": {},
     "output_type": "execute_result"
    }
   ],
   "source": [
    "def addition(*numbers):\n",
    "    return sum([i for i in numbers])\n",
    "addition(1,2,3,4,)"
   ]
  },
  {
   "cell_type": "code",
   "execution_count": 35,
   "metadata": {},
   "outputs": [
    {
     "data": {
      "text/plain": [
       "14"
      ]
     },
     "execution_count": 35,
     "metadata": {},
     "output_type": "execute_result"
    }
   ],
   "source": [
    "l=[1,2,4,3,4]\n",
    "addition(*l)"
   ]
  },
  {
   "cell_type": "markdown",
   "metadata": {},
   "source": [
    "### Lambda Function (anonymous Function)"
   ]
  },
  {
   "cell_type": "code",
   "execution_count": 40,
   "metadata": {},
   "outputs": [
    {
     "data": {
      "text/plain": [
       "[35.6, 37.4, 39.2, 127.4]"
      ]
     },
     "execution_count": 40,
     "metadata": {},
     "output_type": "execute_result"
    }
   ],
   "source": [
    "def C2F(temp):\n",
    "    return (temp * (9/5)) + 32\n",
    "c = [2 ,3, 4 ,53]\n",
    "list(map(C2F,c))\n",
    "list(map(lambda t : (t*(9/5))+32 , c))"
   ]
  },
  {
   "cell_type": "markdown",
   "metadata": {},
   "source": [
    "### Keyword-only Arguments"
   ]
  },
  {
   "cell_type": "code",
   "execution_count": 2,
   "metadata": {},
   "outputs": [
    {
     "data": {
      "text/plain": [
       "2"
      ]
     },
     "execution_count": 2,
     "metadata": {},
     "output_type": "execute_result"
    }
   ],
   "source": [
    "def myfunc(arg1,arg2,*,c=True):\n",
    "    if c:\n",
    "        return arg1+arg2\n",
    "myfunc(1,1)"
   ]
  },
  {
   "cell_type": "markdown",
   "metadata": {},
   "source": [
    "### Advanced Collections"
   ]
  },
  {
   "cell_type": "markdown",
   "metadata": {},
   "source": [
    "#### Named Tuples"
   ]
  },
  {
   "cell_type": "code",
   "execution_count": 19,
   "metadata": {},
   "outputs": [
    {
     "name": "stdout",
     "output_type": "stream",
     "text": [
      "point(x=1, y=2) point(x=2, y=3)\n",
      "2\n",
      "point(x=100, y=2)\n"
     ]
    }
   ],
   "source": [
    "import collections\n",
    "point = collections.namedtuple(\"point\",\"x y\") # give name to code\n",
    "p1 = point(1,2)\n",
    "p2 = point(2,3)\n",
    "print(p1,p2)\n",
    "print(p2.x)\n",
    "p1 = p1._replace(x=100)\n",
    "print(p1)"
   ]
  },
  {
   "cell_type": "markdown",
   "metadata": {},
   "source": [
    "####  Default Dict"
   ]
  },
  {
   "cell_type": "code",
   "execution_count": 31,
   "metadata": {},
   "outputs": [
    {
     "name": "stdout",
     "output_type": "stream",
     "text": [
      "{'d': 1, 'h': 2, 'a': 3, 'n': 2, 'u': 1, 's': 1, 'y': 1, 'k': 1}\n",
      "defaultdict(<function <lambda> at 0x000002920BA5B948>, {'d': 3, 'h': 4, 'a': 5, 'n': 4, 'u': 3, 's': 3, 'y': 3, 'k': 3})\n"
     ]
    }
   ],
   "source": [
    "f = \"dhanushnayak\"\n",
    "d ={}\n",
    "for i in f:\n",
    "    if  i in d.keys():\n",
    "        d[i]+=1\n",
    "    else:\n",
    "        d[i]=1\n",
    "print(d)\n",
    "\n",
    "# Default Dict\n",
    "from collections import defaultdict\n",
    "d1 = defaultdict(lambda: 2)\n",
    "for i in f:\n",
    "    d1[i]+=1\n",
    "print(d1)"
   ]
  },
  {
   "cell_type": "markdown",
   "metadata": {},
   "source": [
    "#### Counters"
   ]
  },
  {
   "cell_type": "code",
   "execution_count": 51,
   "metadata": {
    "scrolled": true
   },
   "outputs": [
    {
     "name": "stdout",
     "output_type": "stream",
     "text": [
      "dhanush 2\n",
      "nayak 2\n",
      "ammu 2\n",
      "rajput 1\n",
      "yashu 2\n",
      "[('dhanush', 2), ('nayak', 2)]\n",
      "Counter({'yashu': 4, 'dhanush': 3, 'nayak': 3, 'ammu': 3, 'rajput': 1})\n",
      "None\n",
      "Counter({'dhanush': 2, 'nayak': 2, 'ammu': 2, 'yashu': 2, 'rajput': 1})\n",
      "dhanush\n",
      "dhanush\n",
      "nayak\n",
      "nayak\n",
      "ammu\n",
      "ammu\n",
      "rajput\n",
      "yashu\n",
      "yashu\n",
      "Counter({'yashu': 2, 'dhanush': 1, 'nayak': 1, 'ammu': 1})\n"
     ]
    }
   ],
   "source": [
    "class1 =['dhanush','nayak','ammu','rajput','dhanush','nayak','ammu','yashu','yashu']\n",
    "class2 =['dhanush','nayak','ammu','yashu','yashu']\n",
    "from collections import Counter\n",
    "c1 = Counter(class1)\n",
    "c2 = Counter(class2)\n",
    "for key,value in c1.items():\n",
    "    print(key,value)\n",
    "    \n",
    "print(c1.most_common(2))\n",
    "\n",
    "c1.update(c2)\n",
    "print(c1)\n",
    "print(c1.subtract(c2))\n",
    "print(c1)\n",
    "for i in c1.elements():\n",
    "    print(i)\n",
    "print(c1 & c2) ## set"
   ]
  },
  {
   "cell_type": "markdown",
   "metadata": {},
   "source": [
    "#### Ordered Dict"
   ]
  },
  {
   "cell_type": "code",
   "execution_count": 65,
   "metadata": {},
   "outputs": [
    {
     "name": "stdout",
     "output_type": "stream",
     "text": [
      "OrderedDict([('yashu', (9, 1)), ('ammu', (2, 11)), ('Warriors', (9, 8)), ('Dhanush', (2, 3))])\n",
      "0 ammu\n",
      "1 Warriors\n",
      "2 Dhanush\n"
     ]
    }
   ],
   "source": [
    "st = [(\"Dhanush\",(2,3)),(\"ammu\",(2,11)),(\"yashu\",(7,21)),(\"Warriors\",(9,8)),(\"yashu\",(9,1))]\n",
    "k=sorted(st ,key=lambda x : x[1][1],reverse=True)\n",
    "from collections import OrderedDict\n",
    "team = OrderedDict(k)\n",
    "print(team)\n",
    "team.popitem(False)\n",
    "for i,t in enumerate(team):\n",
    "    print(i,t)\n",
    "    \n",
    "## if order Dict hav different order with same items it return False"
   ]
  },
  {
   "cell_type": "markdown",
   "metadata": {},
   "source": [
    "#### Deque"
   ]
  },
  {
   "cell_type": "code",
   "execution_count": 88,
   "metadata": {},
   "outputs": [
    {
     "name": "stdout",
     "output_type": "stream",
     "text": [
      "5\n",
      "a\n",
      "b\n",
      "c\n",
      "d\n",
      "e\n",
      "deque([1, 'c', 'a', 'b', 'c', 'd', 'e'])\n",
      "deque([1, 'c', 'a', 'b', 'c', 'd'])\n",
      "deque(['c', 'a', 'b', 'c', 'd'])\n",
      "deque(['c', 'd', 'c', 'a', 'b'])\n"
     ]
    }
   ],
   "source": [
    "from collections import deque\n",
    "d = deque('abcde')\n",
    "print(len(d))\n",
    "for i in d:\n",
    "    print(i)\n",
    "d.appendleft('c')\n",
    "d.count('a')\n",
    "d.appendleft(1)\n",
    "print(d)\n",
    "d.pop()\n",
    "print(d)\n",
    "d.popleft()\n",
    "print(d)\n",
    "d.rotate(-3)\n",
    "print(d)"
   ]
  },
  {
   "cell_type": "markdown",
   "metadata": {},
   "source": [
    "### Classes Enum"
   ]
  },
  {
   "cell_type": "code",
   "execution_count": 102,
   "metadata": {},
   "outputs": [
    {
     "name": "stdout",
     "output_type": "stream",
     "text": [
      "Fruit.Apple\n",
      "<enum 'Fruit'>\n",
      "<Fruit.Apple: 1>\n",
      "Apple 1\n",
      "2\n"
     ]
    }
   ],
   "source": [
    "from enum import Enum,unique,auto\n",
    "# if unique the values must be unique\n",
    "\n",
    "class Fruit(Enum):\n",
    "    Apple =1\n",
    "    Banana = 2\n",
    "    orange = 3\n",
    "    tomato = 4\n",
    "    red =1\n",
    "    pear = auto() # generate auto value of 5 if last is 4\n",
    "   \n",
    "print(Fruit.Apple)\n",
    "print(type(Fruit.Apple))\n",
    "print(repr(Fruit.Apple))\n",
    "print(Fruit.Apple.name, Fruit.Apple.value) ## names must not be duplicate\n",
    "print(Fruit.pear.value)"
   ]
  },
  {
   "cell_type": "markdown",
   "metadata": {},
   "source": [
    "### Class String Functions"
   ]
  },
  {
   "cell_type": "code",
   "execution_count": 123,
   "metadata": {},
   "outputs": [
    {
     "name": "stdout",
     "output_type": "stream",
     "text": [
      "<Person class for fname:Dhanush and lname:Nayak>\n",
      "Person Dhanush Nayak\n",
      "b'Person Dhanush Nayak'\n"
     ]
    }
   ],
   "source": [
    "class Person():\n",
    "    def __init__(self):\n",
    "        self.fname =\"Dhanush\"\n",
    "        self.lname = \"Nayak\"\n",
    "        self.age = 21\n",
    "    def __repr__(self):\n",
    "        return \"<Person class for fname:{} and lname:{}>\".format(self.fname,self.lname)\n",
    "    def __str__(self):\n",
    "        return \"Person {} {}\".format(self.fname,self.lname)\n",
    "    def __bytes__(self):\n",
    "        val = \"Person {} {}\".format(self.fname,self.lname)\n",
    "        return bytes(val.encode(\"utf-8\"))\n",
    "print(repr(Person())) \n",
    "print(str(Person()))\n",
    "print(bytes(Person()))"
   ]
  },
  {
   "cell_type": "markdown",
   "metadata": {},
   "source": [
    "### Class Attribute Function"
   ]
  },
  {
   "cell_type": "code",
   "execution_count": 139,
   "metadata": {},
   "outputs": [
    {
     "name": "stdout",
     "output_type": "stream",
     "text": [
      "(1, 2, 3)\n",
      "(122, 22, 33)\n",
      "['blue', 'green', 'hcolor', 'red', 'rgb']\n"
     ]
    }
   ],
   "source": [
    "class color():\n",
    "    def __init__(self):\n",
    "        self.red =1\n",
    "        self.blue=2\n",
    "        self.green=3\n",
    "    \n",
    "    def __getattr__(self,attr):\n",
    "        if attr == \"rgb\":\n",
    "            return (self.red,self.blue,self.green)\n",
    "        elif attr == \"hcolor\":\n",
    "            return [hash(self.red),hash(self.green),hash(self.blue)]\n",
    "        else:\n",
    "            return AttributeError\n",
    "    \n",
    "    def __setattr__(self,attr,val):\n",
    "        if attr == 'rgb':\n",
    "            self.red = val[0]\n",
    "            self.green = val[1]\n",
    "            self.blue = val[2]\n",
    "        super().__setattr__(attr,val)\n",
    "    \n",
    "    def __dir__(self):\n",
    "        return (\"red\", \"green\", \"blue\" ,\"rgb\", \"hcolor\")\n",
    "    \n",
    "c = color()\n",
    "c.hcolor\n",
    "print(c.rgb)\n",
    "c.rgb =(122,22,33)\n",
    "print(c.rgb)\n",
    "print(dir(c))"
   ]
  },
  {
   "cell_type": "markdown",
   "metadata": {},
   "source": [
    "### Class Numerical Operators"
   ]
  },
  {
   "cell_type": "code",
   "execution_count": 155,
   "metadata": {},
   "outputs": [
    {
     "name": "stdout",
     "output_type": "stream",
     "text": [
      "<Point Calss of x: 1, y: 3>\n",
      "<Point Calss of x: 2, y: 3>\n",
      "<Point Calss of x: 3, y: 6>\n",
      "<Point Calss of x: 3, y: 6>\n",
      "<Point Calss of x: -1, y: -3>\n"
     ]
    }
   ],
   "source": [
    "# object.__add__(self,other_object)\n",
    "class point():\n",
    "    def __init__(self,x,y):\n",
    "        self.x =x\n",
    "        self.y =y\n",
    "        \n",
    "    def __repr__(self):\n",
    "        return \"<Point Calss of x: {}, y: {}>\".format(self.x,self.y)\n",
    "    \n",
    "    def __add__(self,other):\n",
    "        return point(self.x+other.x , self.y+other.y)\n",
    "    \n",
    "    def __sub__(self,other):\n",
    "         return point(self.x - other.x , self.y - other.y)\n",
    "        \n",
    "    def __iadd__(self,other):\n",
    "        self.x+=other.x\n",
    "        self.y+=other.y\n",
    "        return self\n",
    "    \n",
    "p = point(1,3)\n",
    "q = point(2,3)\n",
    "r = p+q\n",
    "print(p)\n",
    "print(q)\n",
    "print(r)\n",
    "p+= q\n",
    "print(p)\n",
    "q -= p\n",
    "print(q)"
   ]
  },
  {
   "cell_type": "markdown",
   "metadata": {},
   "source": [
    "### Object Comparsion "
   ]
  },
  {
   "cell_type": "code",
   "execution_count": 169,
   "metadata": {},
   "outputs": [
    {
     "name": "stdout",
     "output_type": "stream",
     "text": [
      "True\n",
      "False\n",
      "False\n",
      "True\n",
      "True\n",
      "False\n",
      "2\n",
      "3\n"
     ]
    }
   ],
   "source": [
    "class point():\n",
    "    def __init__(self,x):\n",
    "        self.x =x\n",
    "       \n",
    "    def __ge__(self,other):\n",
    "        return self.x >= other.x\n",
    "    \n",
    "    def __gt__(self,other):\n",
    "        return self.x > other.x\n",
    "    \n",
    "    def __lt__(self,other):\n",
    "        return self.x < other.x\n",
    "    \n",
    "    def __le__(self,other):\n",
    "        return self.x <= other.x\n",
    "    \n",
    "    def __ne__(self,other):\n",
    "        return self.x != other.x\n",
    "    \n",
    "    def __eq__(self,other):\n",
    "        return self.x == other.x\n",
    "    \n",
    "a = point(3)\n",
    "b = point(2)\n",
    "print(a>b)\n",
    "print(a<b)\n",
    "print(a==b)\n",
    "print(a!=b)\n",
    "print(a>=b)\n",
    "print(a<=b)\n",
    "for i in sorted([a,b]):\n",
    "    print(i.x)"
   ]
  },
  {
   "cell_type": "markdown",
   "metadata": {},
   "source": [
    "### Logging"
   ]
  },
  {
   "cell_type": "code",
   "execution_count": 184,
   "metadata": {},
   "outputs": [
    {
     "name": "stderr",
     "output_type": "stream",
     "text": [
      "CRITICAL:root:Critical\n",
      "ERROR:root:Error\n",
      "WARNING:root:Warning\n"
     ]
    }
   ],
   "source": [
    "import logging\n",
    "logging.basicConfig(level=logging.DEBUG)\n",
    "logging.debug(\"Debug\")\n",
    "logging.info(\"Info\")\n",
    "logging.collections.Counter(\"aba\")\n",
    "logging.critical(\"Critical\")\n",
    "logging.CRITICAL.bit_length()\n",
    "logging.CRITICAL.conjugate()\n",
    "logging.DEBUG.bit_length()\n",
    "logging.error(\"Error\")\n",
    "logging.warning(\"Warning\")"
   ]
  },
  {
   "cell_type": "markdown",
   "metadata": {},
   "source": [
    "### List Comprehensions"
   ]
  },
  {
   "cell_type": "code",
   "execution_count": 198,
   "metadata": {},
   "outputs": [],
   "source": [
    "even = [i for i in range(1,20) if i%2==0]\n",
    "odd =  [i for i in range(1,20) if i%2!=0]\n",
    "squared = list(map(lambda x : x**2,filter(lambda x: x>2 and x<16, even)))\n",
    "even_sq = [e**2 for e in even if e>2 and e<16]"
   ]
  }
 ],
 "metadata": {
  "kernelspec": {
   "display_name": "Python 3",
   "language": "python",
   "name": "python3"
  },
  "language_info": {
   "codemirror_mode": {
    "name": "ipython",
    "version": 3
   },
   "file_extension": ".py",
   "mimetype": "text/x-python",
   "name": "python",
   "nbconvert_exporter": "python",
   "pygments_lexer": "ipython3",
   "version": "3.7.6"
  }
 },
 "nbformat": 4,
 "nbformat_minor": 2
}
